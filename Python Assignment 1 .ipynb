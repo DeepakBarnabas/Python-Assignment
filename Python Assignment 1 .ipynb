{
 "cells": [
  {
   "cell_type": "code",
   "execution_count": 2,
   "id": "7e514543",
   "metadata": {},
   "outputs": [
    {
     "name": "stdout",
     "output_type": "stream",
     "text": [
      "Hello World\n"
     ]
    }
   ],
   "source": [
    "# Answer 1 : \n",
    "\n",
    "print(\"Hello World\")"
   ]
  },
  {
   "cell_type": "code",
   "execution_count": 4,
   "id": "3267003d",
   "metadata": {},
   "outputs": [
    {
     "name": "stdout",
     "output_type": "stream",
     "text": [
      "Enter the first number : 10\n",
      "Enter the second number :2\n",
      "Addition is  12\n",
      "Division is 5.0\n"
     ]
    }
   ],
   "source": [
    "# Answer 2 \n",
    "\n",
    "a= int(input('Enter the first number : '))\n",
    "b= int(input(\"Enter the second number :\"))\n",
    "\n",
    "add = a+b \n",
    "div = a/b \n",
    "\n",
    "print(\"Addition is \",add )\n",
    "print(\"Division is\",div)\n",
    "\n"
   ]
  },
  {
   "cell_type": "code",
   "execution_count": 6,
   "id": "b067a8ac",
   "metadata": {},
   "outputs": [
    {
     "name": "stdout",
     "output_type": "stream",
     "text": [
      "Enter the breadth of triangle  : 10\n",
      "Enter the depth of triangle  :20\n",
      "Area of traingle is  100.0\n"
     ]
    }
   ],
   "source": [
    "# Answer 3 \n",
    "\n",
    "\n",
    "b= int(input('Enter the breadth of triangle  : '))\n",
    "d= int(input(\"Enter the depth of triangle  :\"))\n",
    "\n",
    "area = (1/2*b*d)\n",
    "\n",
    "print(\"Area of traingle is \",area )"
   ]
  },
  {
   "cell_type": "code",
   "execution_count": 8,
   "id": "b967015d",
   "metadata": {},
   "outputs": [
    {
     "name": "stdout",
     "output_type": "stream",
     "text": [
      "Barnabas\n",
      "Deepak\n"
     ]
    }
   ],
   "source": [
    "# Answer 4 \n",
    "\n",
    "Var_1 = \"Deepak\"\n",
    "Var_2 = \"Barnabas\"\n",
    "\n",
    "Var_3 = Var_1\n",
    "Var_1 = Var_2\n",
    "Var_2= Var_3\n",
    "\n",
    "print(Var_1)\n",
    "print(Var_2)"
   ]
  },
  {
   "cell_type": "code",
   "execution_count": 19,
   "id": "cba834a5",
   "metadata": {},
   "outputs": [
    {
     "data": {
      "text/plain": [
       "8"
      ]
     },
     "execution_count": 19,
     "metadata": {},
     "output_type": "execute_result"
    }
   ],
   "source": [
    "# Answer 5 \n",
    "\n",
    "import random\n",
    "random.randint(1,10)\n",
    "\n"
   ]
  },
  {
   "cell_type": "code",
   "execution_count": null,
   "id": "f6c397af",
   "metadata": {},
   "outputs": [],
   "source": []
  }
 ],
 "metadata": {
  "kernelspec": {
   "display_name": "Python 3 (ipykernel)",
   "language": "python",
   "name": "python3"
  },
  "language_info": {
   "codemirror_mode": {
    "name": "ipython",
    "version": 3
   },
   "file_extension": ".py",
   "mimetype": "text/x-python",
   "name": "python",
   "nbconvert_exporter": "python",
   "pygments_lexer": "ipython3",
   "version": "3.9.12"
  }
 },
 "nbformat": 4,
 "nbformat_minor": 5
}
